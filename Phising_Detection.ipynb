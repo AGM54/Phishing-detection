{
 "cells": [
  {
   "cell_type": "markdown",
   "metadata": {},
   "source": [
    "1. Cargue el dataset en un dataframe de pandas, muestre un ejemplo de cinco observaciones."
   ]
  },
  {
   "cell_type": "code",
   "execution_count": 2,
   "metadata": {},
   "outputs": [
    {
     "name": "stdout",
     "output_type": "stream",
     "text": [
      "                                                 url      status\n",
      "0              http://www.crestonwood.com/router.php  legitimate\n",
      "1  http://shadetreetechnology.com/V4/validation/a...    phishing\n",
      "2  https://support-appleld.com.secureupdate.duila...    phishing\n",
      "3                                 http://rgipt.ac.in  legitimate\n",
      "4  http://www.iracing.com/tracks/gateway-motorspo...  legitimate\n"
     ]
    }
   ],
   "source": [
    "import pandas as pd\n",
    "\n",
    "\n",
    "file_path = \"dataset_pishing.csv\" \n",
    "df = pd.read_csv(file_path)\n",
    "\n",
    "# Primeras cinco observaciones\n",
    "print(df.head())\n"
   ]
  },
  {
   "cell_type": "markdown",
   "metadata": {},
   "source": [
    "2. Muestre la cantidad de observaciones etiquetadas en la columna status como “legit” y como\n",
    "“pishing”. ¿Está balanceado el dataset?\n"
   ]
  },
  {
   "cell_type": "code",
   "execution_count": 5,
   "metadata": {},
   "outputs": [
    {
     "name": "stdout",
     "output_type": "stream",
     "text": [
      "status\n",
      "legitimate    5715\n",
      "phishing      5715\n",
      "Name: count, dtype: int64\n",
      "\n",
      "El dataset está balanceado: Sí\n"
     ]
    }
   ],
   "source": [
    "import pandas as pd\n",
    "\n",
    "\n",
    "\n",
    "# Contar las observaciones de \"status\"\n",
    "status_counts = df[\"status\"].value_counts()\n",
    "\n",
    "\n",
    "balance_ratio = status_counts.min() / status_counts.max()\n",
    "\n",
    "print(status_counts)\n",
    "print(f\"\\nEl dataset está balanceado: {'Sí' if balance_ratio == 1.0 else 'No'}\")\n"
   ]
  },
  {
   "cell_type": "markdown",
   "metadata": {},
   "source": [
    "# Derivación de características"
   ]
  },
  {
   "cell_type": "markdown",
   "metadata": {},
   "source": [
    "1. ¿Qué ventajas tiene el análisis de una URL contra el análisis de otros datos, cómo el tiempo\n",
    "de vida del dominio, o las características de la página Web?"
   ]
  },
  {
   "cell_type": "markdown",
   "metadata": {},
   "source": [
    "El análisis de URLs presenta varias ventajas importantes frente a otros métodos de detección de phishing, como la evaluación del tiempo de vida del dominio o el análisis del contenido de la página web.\n",
    "\n",
    "Detección en tiempo real y ataques de \"zero-hour\"\n",
    "A diferencia de las listas negras o del análisis del tiempo de vida del dominio, el análisis de URLs permite identificar ataques de phishing en el momento en que aparecen, sin necesidad de que hayan sido reportados previamente. Esto es clave para detectar ataques recientes que aún no figuran en bases de datos de amenazas conocidas.\n",
    "\n",
    "Independencia del contenido de la página\n",
    "No es necesario acceder, descargar o renderizar la página web para analizarla, lo que reduce el riesgo de interactuar con contenido malicioso y hace que el proceso de detección sea más rápido y eficiente. Esto también evita que los atacantes oculten código dañino mediante técnicas de carga dinámica de contenido.\n",
    "\n",
    "Detección sin depender de servicios de terceros\n",
    "Métodos basados en listas negras, como Google Safe Browsing, o en la antigüedad del dominio requieren acceso a fuentes externas, lo que puede implicar latencia o limitaciones en su disponibilidad. En cambio, el análisis de URLs puede realizarse de manera autónoma, lo que lo convierte en una opción más flexible y confiable.\n",
    "\n",
    "Menor consumo de recursos computacionales\n",
    "Analizar las características de una URL, como su longitud, la presencia de caracteres especiales o la estructura del dominio, es un proceso mucho más ligero en comparación con la evaluación completa del contenido de una página web. Esto permite implementar soluciones de detección más eficientes sin comprometer el rendimiento del sistema.\n",
    "\n",
    "Mayor resistencia ante técnicas evasivas\n",
    "Los atacantes suelen modificar el contenido de las páginas, aplicar técnicas de ofuscación o cambiar el diseño visual para evadir los sistemas de detección basados en el contenido. Sin embargo, las URLs utilizadas en ataques de phishing siguen patrones predecibles, lo que facilita su identificación sin importar cómo luzca la página web final.\n",
    "\n",
    "En resumen, el análisis de URLs es una técnica poderosa para la detección de phishing debido a su rapidez, eficiencia y capacidad de adaptación ante nuevas amenazas, sin depender de bases de datos externas o de la evaluación del contenido de las páginas web."
   ]
  },
  {
   "cell_type": "markdown",
   "metadata": {},
   "source": [
    "2. ¿Qué características de una URL son más prometedoras para la detección de phishing?"
   ]
  },
  {
   "cell_type": "markdown",
   "metadata": {},
   "source": [
    "El análisis de URLs ha demostrado ser una técnica altamente efectiva para la detección de phishing, gracias a la identificación de patrones y características sospechosas que suelen estar presentes en estos ataques. Entre los principales indicadores de una URL maliciosa se encuentran:\n",
    "\n",
    "Longitud de la URL\n",
    "Los sitios de phishing tienden a utilizar URLs más largas de lo normal con el fin de ocultar el dominio real dentro de subdominios o directorios engañosos. Una URL excesivamente larga puede ser un indicio de una posible amenaza.\n",
    "\n",
    "Uso de caracteres especiales y entropía de caracteres no alfanuméricos\n",
    "Caracteres como \"-\", \"_\", \"@\", \"//\" y otros símbolos especiales son comúnmente utilizados para engañar a los usuarios y hacer que la URL parezca legítima. El nivel de entropía en estos caracteres es una métrica clave para distinguir URLs de phishing de aquellas legítimas.\n",
    "\n",
    "Presencia de direcciones IP en la URL\n",
    "Una URL que contiene una dirección IP en lugar de un dominio registrado es un fuerte indicio de phishing. Los sitios legítimos suelen utilizar nombres de dominio bien establecidos en lugar de direcciones IP numéricas.\n",
    "\n",
    "Uso de subdominios sospechosos\n",
    "Los atacantes pueden estructurar las URLs de manera que imiten sitios legítimos, utilizando múltiples subdominios para confundir a los usuarios. Por ejemplo, una URL como login.bank-secure.example.com puede parecer auténtica, pero el dominio real es example.com, lo que indica una posible amenaza.\n",
    "\n",
    "Uso de palabras clave engañosas\n",
    "Palabras como \"secure\", \"login\", \"account\", \"verify\" y \"banking\" suelen ser empleadas en URLs fraudulentas para generar confianza en la víctima y hacer que caiga en el engaño. La presencia de estas palabras en una URL debe ser analizada con precaución.\n",
    "\n",
    "TLDs y dominios sospechosos\n",
    "Los sitios de phishing a menudo emplean dominios de nivel superior (TLDs) menos comunes o gratuitos, como .tk, .cf, .ga, ya que estos suelen estar asociados con actividades maliciosas. Analizar el TLD de una URL es una técnica útil para detectar posibles fraudes.\n",
    "\n",
    "Presencia de acortadores de URL\n",
    "Servicios como bit.ly o tinyurl pueden ser utilizados para ocultar la verdadera dirección de un sitio malicioso, lo que dificulta que el usuario identifique una amenaza antes de hacer clic en el enlace."
   ]
  },
  {
   "cell_type": "markdown",
   "metadata": {},
   "source": []
  }
 ],
 "metadata": {
  "kernelspec": {
   "display_name": "Python 3",
   "language": "python",
   "name": "python3"
  },
  "language_info": {
   "codemirror_mode": {
    "name": "ipython",
    "version": 3
   },
   "file_extension": ".py",
   "mimetype": "text/x-python",
   "name": "python",
   "nbconvert_exporter": "python",
   "pygments_lexer": "ipython3",
   "version": "3.12.1"
  }
 },
 "nbformat": 4,
 "nbformat_minor": 2
}
