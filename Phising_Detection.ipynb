{
 "cells": [
  {
   "cell_type": "markdown",
   "metadata": {},
   "source": [
    "1. Cargue el dataset en un dataframe de pandas, muestre un ejemplo de cinco observaciones."
   ]
  },
  {
   "cell_type": "code",
   "execution_count": 2,
   "metadata": {},
   "outputs": [
    {
     "name": "stdout",
     "output_type": "stream",
     "text": [
      "                                                 url      status\n",
      "0              http://www.crestonwood.com/router.php  legitimate\n",
      "1  http://shadetreetechnology.com/V4/validation/a...    phishing\n",
      "2  https://support-appleld.com.secureupdate.duila...    phishing\n",
      "3                                 http://rgipt.ac.in  legitimate\n",
      "4  http://www.iracing.com/tracks/gateway-motorspo...  legitimate\n"
     ]
    }
   ],
   "source": [
    "import pandas as pd\n",
    "\n",
    "\n",
    "file_path = \"dataset_pishing.csv\" \n",
    "df = pd.read_csv(file_path)\n",
    "\n",
    "# Primeras cinco observaciones\n",
    "print(df.head())\n"
   ]
  },
  {
   "cell_type": "markdown",
   "metadata": {},
   "source": [
    "2. Muestre la cantidad de observaciones etiquetadas en la columna status como “legit” y como\n",
    "“pishing”. ¿Está balanceado el dataset?\n"
   ]
  },
  {
   "cell_type": "code",
   "execution_count": 5,
   "metadata": {},
   "outputs": [
    {
     "name": "stdout",
     "output_type": "stream",
     "text": [
      "status\n",
      "legitimate    5715\n",
      "phishing      5715\n",
      "Name: count, dtype: int64\n",
      "\n",
      "El dataset está balanceado: Sí\n"
     ]
    }
   ],
   "source": [
    "import pandas as pd\n",
    "\n",
    "\n",
    "\n",
    "# Contar las observaciones de \"status\"\n",
    "status_counts = df[\"status\"].value_counts()\n",
    "\n",
    "\n",
    "balance_ratio = status_counts.min() / status_counts.max()\n",
    "\n",
    "print(status_counts)\n",
    "print(f\"\\nEl dataset está balanceado: {'Sí' if balance_ratio == 1.0 else 'No'}\")\n"
   ]
  }
 ],
 "metadata": {
  "kernelspec": {
   "display_name": "Python 3",
   "language": "python",
   "name": "python3"
  },
  "language_info": {
   "codemirror_mode": {
    "name": "ipython",
    "version": 3
   },
   "file_extension": ".py",
   "mimetype": "text/x-python",
   "name": "python",
   "nbconvert_exporter": "python",
   "pygments_lexer": "ipython3",
   "version": "3.10.11"
  }
 },
 "nbformat": 4,
 "nbformat_minor": 2
}
